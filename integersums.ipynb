{
  "nbformat": 4,
  "nbformat_minor": 0,
  "metadata": {
    "colab": {
      "provenance": [],
      "authorship_tag": "ABX9TyPdzIB3Lw4d2Itt4GJb/C6L",
      "include_colab_link": true
    },
    "kernelspec": {
      "name": "python3",
      "display_name": "Python 3"
    },
    "language_info": {
      "name": "python"
    }
  },
  "cells": [
    {
      "cell_type": "markdown",
      "metadata": {
        "id": "view-in-github",
        "colab_type": "text"
      },
      "source": [
        "<a href=\"https://colab.research.google.com/github/mxnst0820/python-practices/blob/main/integersums.ipynb\" target=\"_parent\"><img src=\"https://colab.research.google.com/assets/colab-badge.svg\" alt=\"Open In Colab\"/></a>"
      ]
    },
    {
      "cell_type": "code",
      "execution_count": null,
      "metadata": {
        "colab": {
          "base_uri": "https://localhost:8080/"
        },
        "id": "JEksRK1WuSNN",
        "outputId": "86e5b312-468e-49a1-f440-3d580b6efc5c"
      },
      "outputs": [
        {
          "name": "stdout",
          "output_type": "stream",
          "text": [
            "5\n"
          ]
        },
        {
          "output_type": "execute_result",
          "data": {
            "text/plain": [
              "15"
            ]
          },
          "metadata": {},
          "execution_count": 16
        }
      ],
      "source": [
        "ints = []\n",
        "\n",
        "def intSum(n):\n",
        "  if isinstance(n, int) != True:\n",
        "    return 0\n",
        "  else:\n",
        "    for i in range(n+1):\n",
        "      ints.append(i)\n",
        "    total = sum(ints)\n",
        "    return total \n",
        "\n",
        "intSum(int(input()))\n"
      ]
    },
    {
      "cell_type": "markdown",
      "source": [
        "# **Correct answer:**"
      ],
      "metadata": {
        "id": "qX6F3CnNz5S-"
      }
    },
    {
      "cell_type": "code",
      "source": [
        "def intSum(n):\n",
        "  try:\n",
        "    result = sum(range(n+1))\n",
        "  except TypeError:\n",
        "    result = 0\n",
        "  return result\n",
        "\n",
        "intSum(9)"
      ],
      "metadata": {
        "colab": {
          "base_uri": "https://localhost:8080/"
        },
        "id": "co6NnHp8xeha",
        "outputId": "432b5fbe-e6bd-421a-a83e-09288528aad4"
      },
      "execution_count": null,
      "outputs": [
        {
          "output_type": "execute_result",
          "data": {
            "text/plain": [
              "45"
            ]
          },
          "metadata": {},
          "execution_count": 22
        }
      ]
    }
  ]
}